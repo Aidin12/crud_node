{
  "nbformat": 4,
  "nbformat_minor": 0,
  "metadata": {
    "colab": {
      "name": "twint.ipynb",
      "provenance": [],
      "authorship_tag": "ABX9TyNa7QMfEhYvA0mFWXLHTota",
      "include_colab_link": true
    },
    "kernelspec": {
      "name": "python3",
      "display_name": "Python 3"
    },
    "accelerator": "GPU"
  },
  "cells": [
    {
      "cell_type": "markdown",
      "metadata": {
        "id": "view-in-github",
        "colab_type": "text"
      },
      "source": [
        "<a href=\"https://colab.research.google.com/github/Aidin12/crud_node/blob/master/twint.ipynb\" target=\"_parent\"><img src=\"https://colab.research.google.com/assets/colab-badge.svg\" alt=\"Open In Colab\"/></a>"
      ]
    },
    {
      "cell_type": "code",
      "metadata": {
        "id": "-f_Uitf6C4PA"
      },
      "source": [
        "from google.colab import drive\n",
        "drive.mount('drive')"
      ],
      "execution_count": null,
      "outputs": []
    },
    {
      "cell_type": "code",
      "metadata": {
        "id": "nLGtvexW9Kro"
      },
      "source": [
        "#run to fix ERROR CRITICAL:root:twint.run:Twint:Feed:noDataExpecting\n",
        "#!pip3 uninstall twint\n",
        "#!pip3 install --user --upgrade git+https://github.com/twintproject/twint.git@origin/master#egg=twint"
      ],
      "execution_count": null,
      "outputs": []
    },
    {
      "cell_type": "code",
      "metadata": {
        "id": "oBU56niIC3SJ",
        "colab": {
          "base_uri": "https://localhost:8080/"
        },
        "outputId": "d9675f18-4d67-4b55-8e8a-edffab8e8d8a"
      },
      "source": [
        "!pip install twint\n",
        "! pip install -qq nest_asyncio\n",
        "#!pip install -qq whatthelang"
      ],
      "execution_count": null,
      "outputs": [
        {
          "output_type": "stream",
          "text": [
            "\u001b[K     |████████████████████████████████| 788kB 12.2MB/s \n",
            "\u001b[K     |████████████████████████████████| 102kB 14.6MB/s \n",
            "\u001b[K     |████████████████████████████████| 245kB 50.4MB/s \n",
            "\u001b[?25h  Building wheel for whatthelang (setup.py) ... \u001b[?25l\u001b[?25hdone\n",
            "  Building wheel for cysignals (setup.py) ... \u001b[?25l\u001b[?25hdone\n",
            "  Building wheel for pyfasttext (setup.py) ... \u001b[?25l\u001b[?25hdone\n"
          ],
          "name": "stdout"
        }
      ]
    },
    {
      "cell_type": "code",
      "metadata": {
        "id": "ttXluWv9ItCK"
      },
      "source": [
        "import twint\n",
        "import pandas\n",
        "import nest_asyncio\n",
        "nest_asyncio.apply()"
      ],
      "execution_count": null,
      "outputs": []
    },
    {
      "cell_type": "code",
      "metadata": {
        "id": "ecloabxvIzMc"
      },
      "source": [
        "c = twint.Config()\n",
        "c.Store_object = True\n",
        "c.Pandas =True\n",
        "c.Search = \"$CLOV\"\n",
        "#c.Limit = 20000\n",
        "c.Since = \"2020-09-01\"\n",
        "c.Until = \"2021-01-20\"\n",
        "c.Lang = 'en'"
      ],
      "execution_count": null,
      "outputs": []
    },
    {
      "cell_type": "code",
      "metadata": {
        "id": "_aeq_ywnL8gG"
      },
      "source": [
        "twint.run.Search(c)"
      ],
      "execution_count": null,
      "outputs": []
    },
    {
      "cell_type": "code",
      "metadata": {
        "colab": {
          "base_uri": "https://localhost:8080/",
          "height": 547
        },
        "id": "RtuG7j32-Esy",
        "outputId": "a64b3740-e65c-48a6-d4ea-7af1adbfef0f"
      },
      "source": [
        "twint.storage.panda.Tweets_df.tail()"
      ],
      "execution_count": null,
      "outputs": [
        {
          "output_type": "execute_result",
          "data": {
            "text/html": [
              "<div>\n",
              "<style scoped>\n",
              "    .dataframe tbody tr th:only-of-type {\n",
              "        vertical-align: middle;\n",
              "    }\n",
              "\n",
              "    .dataframe tbody tr th {\n",
              "        vertical-align: top;\n",
              "    }\n",
              "\n",
              "    .dataframe thead th {\n",
              "        text-align: right;\n",
              "    }\n",
              "</style>\n",
              "<table border=\"1\" class=\"dataframe\">\n",
              "  <thead>\n",
              "    <tr style=\"text-align: right;\">\n",
              "      <th></th>\n",
              "      <th>id</th>\n",
              "      <th>conversation_id</th>\n",
              "      <th>created_at</th>\n",
              "      <th>date</th>\n",
              "      <th>timezone</th>\n",
              "      <th>place</th>\n",
              "      <th>tweet</th>\n",
              "      <th>language</th>\n",
              "      <th>hashtags</th>\n",
              "      <th>cashtags</th>\n",
              "      <th>user_id</th>\n",
              "      <th>user_id_str</th>\n",
              "      <th>username</th>\n",
              "      <th>name</th>\n",
              "      <th>day</th>\n",
              "      <th>hour</th>\n",
              "      <th>link</th>\n",
              "      <th>urls</th>\n",
              "      <th>photos</th>\n",
              "      <th>video</th>\n",
              "      <th>thumbnail</th>\n",
              "      <th>retweet</th>\n",
              "      <th>nlikes</th>\n",
              "      <th>nreplies</th>\n",
              "      <th>nretweets</th>\n",
              "      <th>quote_url</th>\n",
              "      <th>search</th>\n",
              "      <th>near</th>\n",
              "      <th>geo</th>\n",
              "      <th>source</th>\n",
              "      <th>user_rt_id</th>\n",
              "      <th>user_rt</th>\n",
              "      <th>retweet_id</th>\n",
              "      <th>reply_to</th>\n",
              "      <th>retweet_date</th>\n",
              "      <th>translate</th>\n",
              "      <th>trans_src</th>\n",
              "      <th>trans_dest</th>\n",
              "    </tr>\n",
              "  </thead>\n",
              "  <tbody>\n",
              "    <tr>\n",
              "      <th>19529</th>\n",
              "      <td>1331626291204911106</td>\n",
              "      <td>1331626291204911106</td>\n",
              "      <td>1.606319e+12</td>\n",
              "      <td>2020-11-25 15:50:22</td>\n",
              "      <td>+0000</td>\n",
              "      <td></td>\n",
              "      <td>$IPOC will be changing to $CLOV</td>\n",
              "      <td>en</td>\n",
              "      <td>[]</td>\n",
              "      <td>[ipoc, clov]</td>\n",
              "      <td>150433584</td>\n",
              "      <td>150433584</td>\n",
              "      <td>JesseOguns</td>\n",
              "      <td>Jesse</td>\n",
              "      <td>3</td>\n",
              "      <td>15</td>\n",
              "      <td>https://twitter.com/JesseOguns/status/13316262...</td>\n",
              "      <td>[]</td>\n",
              "      <td>[]</td>\n",
              "      <td>0</td>\n",
              "      <td></td>\n",
              "      <td>False</td>\n",
              "      <td>6</td>\n",
              "      <td>2</td>\n",
              "      <td>0</td>\n",
              "      <td></td>\n",
              "      <td>$CLOV</td>\n",
              "      <td></td>\n",
              "      <td></td>\n",
              "      <td></td>\n",
              "      <td></td>\n",
              "      <td></td>\n",
              "      <td></td>\n",
              "      <td>[]</td>\n",
              "      <td></td>\n",
              "      <td></td>\n",
              "      <td></td>\n",
              "      <td></td>\n",
              "    </tr>\n",
              "    <tr>\n",
              "      <th>19530</th>\n",
              "      <td>1331615381459439616</td>\n",
              "      <td>1331615381459439616</td>\n",
              "      <td>1.606317e+12</td>\n",
              "      <td>2020-11-25 15:07:01</td>\n",
              "      <td>+0000</td>\n",
              "      <td></td>\n",
              "      <td>$IPOC Social Capital agreed to combine with Cl...</td>\n",
              "      <td>en</td>\n",
              "      <td>[]</td>\n",
              "      <td>[ipoc, clov]</td>\n",
              "      <td>1370906497</td>\n",
              "      <td>1370906497</td>\n",
              "      <td>MaisaCorp</td>\n",
              "      <td>MAISA</td>\n",
              "      <td>3</td>\n",
              "      <td>15</td>\n",
              "      <td>https://twitter.com/MaisaCorp/status/133161538...</td>\n",
              "      <td>[]</td>\n",
              "      <td>[]</td>\n",
              "      <td>0</td>\n",
              "      <td></td>\n",
              "      <td>False</td>\n",
              "      <td>1</td>\n",
              "      <td>0</td>\n",
              "      <td>0</td>\n",
              "      <td></td>\n",
              "      <td>$CLOV</td>\n",
              "      <td></td>\n",
              "      <td></td>\n",
              "      <td></td>\n",
              "      <td></td>\n",
              "      <td></td>\n",
              "      <td></td>\n",
              "      <td>[]</td>\n",
              "      <td></td>\n",
              "      <td></td>\n",
              "      <td></td>\n",
              "      <td></td>\n",
              "    </tr>\n",
              "    <tr>\n",
              "      <th>19531</th>\n",
              "      <td>1331615292708040704</td>\n",
              "      <td>1331615292708040704</td>\n",
              "      <td>1.606317e+12</td>\n",
              "      <td>2020-11-25 15:06:40</td>\n",
              "      <td>+0000</td>\n",
              "      <td></td>\n",
              "      <td>$IPOC Clover Health Investments, a healthcare ...</td>\n",
              "      <td>en</td>\n",
              "      <td>[]</td>\n",
              "      <td>[ipoc, ipoc, clov]</td>\n",
              "      <td>1370906497</td>\n",
              "      <td>1370906497</td>\n",
              "      <td>MaisaCorp</td>\n",
              "      <td>MAISA</td>\n",
              "      <td>3</td>\n",
              "      <td>15</td>\n",
              "      <td>https://twitter.com/MaisaCorp/status/133161529...</td>\n",
              "      <td>[]</td>\n",
              "      <td>[]</td>\n",
              "      <td>0</td>\n",
              "      <td></td>\n",
              "      <td>False</td>\n",
              "      <td>0</td>\n",
              "      <td>0</td>\n",
              "      <td>0</td>\n",
              "      <td></td>\n",
              "      <td>$CLOV</td>\n",
              "      <td></td>\n",
              "      <td></td>\n",
              "      <td></td>\n",
              "      <td></td>\n",
              "      <td></td>\n",
              "      <td></td>\n",
              "      <td>[]</td>\n",
              "      <td></td>\n",
              "      <td></td>\n",
              "      <td></td>\n",
              "      <td></td>\n",
              "    </tr>\n",
              "    <tr>\n",
              "      <th>19532</th>\n",
              "      <td>1331612648794800129</td>\n",
              "      <td>1331612648794800129</td>\n",
              "      <td>1.606316e+12</td>\n",
              "      <td>2020-11-25 14:56:10</td>\n",
              "      <td>+0000</td>\n",
              "      <td></td>\n",
              "      <td>$CLOV here's a new issue with huge growth pote...</td>\n",
              "      <td>en</td>\n",
              "      <td>[]</td>\n",
              "      <td>[clov, ipoc]</td>\n",
              "      <td>13380322</td>\n",
              "      <td>13380322</td>\n",
              "      <td>Rick__H</td>\n",
              "      <td>RickH</td>\n",
              "      <td>3</td>\n",
              "      <td>14</td>\n",
              "      <td>https://twitter.com/Rick__H/status/13316126487...</td>\n",
              "      <td>[]</td>\n",
              "      <td>[]</td>\n",
              "      <td>0</td>\n",
              "      <td></td>\n",
              "      <td>False</td>\n",
              "      <td>0</td>\n",
              "      <td>0</td>\n",
              "      <td>0</td>\n",
              "      <td></td>\n",
              "      <td>$CLOV</td>\n",
              "      <td></td>\n",
              "      <td></td>\n",
              "      <td></td>\n",
              "      <td></td>\n",
              "      <td></td>\n",
              "      <td></td>\n",
              "      <td>[]</td>\n",
              "      <td></td>\n",
              "      <td></td>\n",
              "      <td></td>\n",
              "      <td></td>\n",
              "    </tr>\n",
              "    <tr>\n",
              "      <th>19533</th>\n",
              "      <td>1331586038377091073</td>\n",
              "      <td>1331586038377091073</td>\n",
              "      <td>1.606310e+12</td>\n",
              "      <td>2020-11-25 13:10:25</td>\n",
              "      <td>+0000</td>\n",
              "      <td></td>\n",
              "      <td>$IPOC ➡️ $CLOV coming soon!</td>\n",
              "      <td>en</td>\n",
              "      <td>[]</td>\n",
              "      <td>[ipoc, clov]</td>\n",
              "      <td>1066882306407833600</td>\n",
              "      <td>1066882306407833600</td>\n",
              "      <td>StockMaster9</td>\n",
              "      <td>MomentumInvesting</td>\n",
              "      <td>3</td>\n",
              "      <td>13</td>\n",
              "      <td>https://twitter.com/StockMaster9/status/133158...</td>\n",
              "      <td>[]</td>\n",
              "      <td>[]</td>\n",
              "      <td>0</td>\n",
              "      <td></td>\n",
              "      <td>False</td>\n",
              "      <td>1</td>\n",
              "      <td>0</td>\n",
              "      <td>1</td>\n",
              "      <td>https://twitter.com/WallStJesus/status/1331581...</td>\n",
              "      <td>$CLOV</td>\n",
              "      <td></td>\n",
              "      <td></td>\n",
              "      <td></td>\n",
              "      <td></td>\n",
              "      <td></td>\n",
              "      <td></td>\n",
              "      <td>[]</td>\n",
              "      <td></td>\n",
              "      <td></td>\n",
              "      <td></td>\n",
              "      <td></td>\n",
              "    </tr>\n",
              "  </tbody>\n",
              "</table>\n",
              "</div>"
            ],
            "text/plain": [
              "                        id      conversation_id  ...  trans_src trans_dest\n",
              "19529  1331626291204911106  1331626291204911106  ...                      \n",
              "19530  1331615381459439616  1331615381459439616  ...                      \n",
              "19531  1331615292708040704  1331615292708040704  ...                      \n",
              "19532  1331612648794800129  1331612648794800129  ...                      \n",
              "19533  1331586038377091073  1331586038377091073  ...                      \n",
              "\n",
              "[5 rows x 38 columns]"
            ]
          },
          "metadata": {
            "tags": []
          },
          "execution_count": 4
        }
      ]
    },
    {
      "cell_type": "code",
      "metadata": {
        "colab": {
          "base_uri": "https://localhost:8080/"
        },
        "id": "OMQWgaqxYmbU",
        "outputId": "e1739fd5-72d2-428f-f57a-e99a69c0a96f"
      },
      "source": [
        "twint.storage.panda.Tweets_df.count()"
      ],
      "execution_count": null,
      "outputs": [
        {
          "output_type": "execute_result",
          "data": {
            "text/plain": [
              "id                 19534\n",
              "conversation_id    19534\n",
              "created_at         19534\n",
              "date               19534\n",
              "timezone           19534\n",
              "place              19534\n",
              "tweet              19534\n",
              "language           19534\n",
              "hashtags           19534\n",
              "cashtags           19534\n",
              "user_id            19534\n",
              "user_id_str        19534\n",
              "username           19534\n",
              "name               19534\n",
              "day                19534\n",
              "hour               19534\n",
              "link               19534\n",
              "urls               19534\n",
              "photos             19534\n",
              "video              19534\n",
              "thumbnail          19534\n",
              "retweet            19534\n",
              "nlikes             19534\n",
              "nreplies           19534\n",
              "nretweets          19534\n",
              "quote_url          19534\n",
              "search             19534\n",
              "near               19534\n",
              "geo                19534\n",
              "source             19534\n",
              "user_rt_id         19534\n",
              "user_rt            19534\n",
              "retweet_id         19534\n",
              "reply_to           19534\n",
              "retweet_date       19534\n",
              "translate          19534\n",
              "trans_src          19534\n",
              "trans_dest         19534\n",
              "dtype: int64"
            ]
          },
          "metadata": {
            "tags": []
          },
          "execution_count": 5
        }
      ]
    },
    {
      "cell_type": "code",
      "metadata": {
        "id": "jY1LeUQiDXXF"
      },
      "source": [
        "twint.storage.panda.Tweets_df.to_csv('CLOV.csv')\n",
        "!cp CLOV.csv \"drive/My Drive/\""
      ],
      "execution_count": null,
      "outputs": []
    },
    {
      "cell_type": "code",
      "metadata": {
        "id": "8zp96wUg2gIb"
      },
      "source": [
        "c=twint.Config()\n",
        "c.Store_object = True\n",
        "c.Pandas = True\n",
        "c.Username =\"Stocktwits\"\n",
        "c.Custom[\"tweet\"] = [\"id\"]\n",
        "c.Limit = 30000\n",
        "#c.Since = \"2020-11-01\"\n",
        "#c.Until = \"2021-01-20\"\n",
        "c.Lang = 'en'"
      ],
      "execution_count": null,
      "outputs": []
    }
  ]
}